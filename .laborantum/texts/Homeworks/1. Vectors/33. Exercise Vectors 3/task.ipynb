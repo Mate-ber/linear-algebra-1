{
 "cells": [
  {
   "cell_type": "code",
   "execution_count": 51,
   "metadata": {
    "deletable": false,
    "editable": false
   },
   "outputs": [],
   "source": [
    "%reload_ext autoreload\n",
    "%autoreload 2\n",
    "\n",
    "import sys\n",
    "import os\n",
    "from pathlib import Path\n",
    "\n",
    "path = Path('.').resolve()\n",
    "\n",
    "index = str(path).find('.laborantum')\n",
    "\n",
    "if index > 0:\n",
    "    path = str(path)[:index]\n",
    "\n",
    "os.chdir(path)\n",
    "\n",
    "!{sys.executable} -m pip -q install --user numpy json-tricks torch jupyter nbconvert"
   ]
  },
  {
   "cell_type": "code",
   "execution_count": 52,
   "metadata": {},
   "outputs": [],
   "source": [
    "import json_tricks\n",
    "\n",
    "path = Path('.laborantum/texts/Homeworks/1. Vectors/33. Exercise Vectors 3')"
   ]
  },
  {
   "cell_type": "code",
   "execution_count": 53,
   "metadata": {},
   "outputs": [],
   "source": [
    "debug_cases = json_tricks.load(str(path / 'testcases' / 'debug_cases.json'))\n",
    "public_cases = json_tricks.load(str(path / 'testcases' / 'public_cases.json'))"
   ]
  },
  {
   "cell_type": "code",
   "execution_count": 54,
   "metadata": {},
   "outputs": [],
   "source": [
    "import numpy as np\n",
    "import numpy.typing as npt\n",
    "from typing import Dict\n",
    "\n",
    "def vector_operations(x, y):\n",
    "    ## YOUR CODE HERE\n",
    "    exp = (2 * x) + y\n",
    "    dot_prod = np.dot(x, y)\n",
    "        \n",
    "    length_x = np.linalg.norm(x)\n",
    "    length_y = np.linalg.norm(y)\n",
    "    angle = np.arccos(dot_prod / (length_x * length_y))\n",
    "\n",
    "    dir_a = np.copy(x)\n",
    "    dir_b = np.copy(y)\n",
    "\n",
    "    for i in range(len(dir_a)):\n",
    "        dir_a[i] = dir_a[i] / length_x\n",
    "        dir_b[i] = dir_b[i] / length_y\n",
    "\n",
    "\n",
    "    a_proj_b = (dot_prod / length_y * length_y) * y\n",
    "    b_proj_a = (dot_prod / length_x * length_x) * x\n",
    "    \n",
    "    a_orth_b = x - a_proj_b\n",
    "    b_orth_a = y - b_proj_a\n",
    "\n",
    "    answer = {\n",
    "        'expression': np.array(exp),\n",
    "        'dot_prod': dot_prod,\n",
    "        'length_a': length_x,\n",
    "        'length_b': length_y,\n",
    "        'angle': angle,\n",
    "        'dir_a': np.array(dir_a),\n",
    "        'dir_b': np.array(dir_b),\n",
    "        'a_proj_b': np.array(a_proj_b),\n",
    "        'b_proj_a': np.array(b_proj_a),\n",
    "        'a_orth_b': np.array(a_orth_b),\n",
    "        'b_orth_a': np.array(b_orth_a)\n",
    "    }\n",
    "    \n",
    "    return answer\n"
   ]
  },
  {
   "cell_type": "code",
   "execution_count": 55,
   "metadata": {},
   "outputs": [
    {
     "name": "stdout",
     "output_type": "stream",
     "text": [
      "0.010975837707519531 <- Elapsed time\n"
     ]
    }
   ],
   "source": [
    "import time\n",
    "\n",
    "start = time.time()\n",
    "\n",
    "debug_result = [vector_operations(**x) for x in debug_cases]\n",
    "answer = [vector_operations(**x) for x in public_cases]\n",
    "\n",
    "print(time.time() - start, '<- Elapsed time')"
   ]
  }
 ],
 "metadata": {
  "kernelspec": {
   "display_name": "Python 3",
   "language": "python",
   "name": "python3"
  },
  "language_info": {
   "codemirror_mode": {
    "name": "ipython",
    "version": 3
   },
   "file_extension": ".py",
   "mimetype": "text/x-python",
   "name": "python",
   "nbconvert_exporter": "python",
   "pygments_lexer": "ipython3",
   "version": "3.12.2"
  }
 },
 "nbformat": 4,
 "nbformat_minor": 2
}
