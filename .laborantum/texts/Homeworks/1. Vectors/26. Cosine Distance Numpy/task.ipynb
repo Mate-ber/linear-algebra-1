{
 "cells": [
  {
   "cell_type": "code",
   "execution_count": 10,
   "metadata": {
    "deletable": false,
    "editable": false
   },
   "outputs": [],
   "source": [
    "%reload_ext autoreload\n",
    "%autoreload 2\n",
    "\n",
    "import sys\n",
    "import os\n",
    "from pathlib import Path\n",
    "\n",
    "path = Path('.').resolve()\n",
    "\n",
    "index = str(path).find('.laborantum')\n",
    "\n",
    "if index > 0:\n",
    "    path = str(path)[:index]\n",
    "\n",
    "os.chdir(path)\n",
    "\n",
    "!{sys.executable} -m pip -q install --user numpy json-tricks torch jupyter nbconvert"
   ]
  },
  {
   "cell_type": "code",
   "execution_count": 11,
   "metadata": {},
   "outputs": [],
   "source": [
    "import json_tricks\n",
    "\n",
    "path = Path('.laborantum/texts/Homeworks/1. Vectors/26. Cosine Distance Numpy')"
   ]
  },
  {
   "cell_type": "code",
   "execution_count": 12,
   "metadata": {},
   "outputs": [],
   "source": [
    "debug_cases = json_tricks.load(str(path / 'testcases' / 'debug_cases.json'))\n",
    "public_cases = json_tricks.load(str(path / 'testcases' / 'public_cases.json'))"
   ]
  },
  {
   "cell_type": "code",
   "execution_count": 17,
   "metadata": {},
   "outputs": [],
   "source": [
    "import numpy as np\n",
    "\n",
    "def cos(x, y):\n",
    "    ## YOUR CODE HERE\n",
    "    dot_prod = (x * y).sum()\n",
    "    len_x = np.sqrt((x ** 2).sum())\n",
    "    len_y = np.sqrt((y ** 2).sum())\n",
    "    co = dot_prod / (len_x * len_y)\n",
    "    return  co\n",
    "\n"
   ]
  },
  {
   "cell_type": "code",
   "execution_count": 18,
   "metadata": {},
   "outputs": [
    {
     "name": "stdout",
     "output_type": "stream",
     "text": [
      "0.0011131763458251953 <- Elapsed time\n",
      "[-0.03300613915047302, -0.015347596240077104, -0.014474965194148705, -0.046250474496671176, 0.126132470193892, 0.016737761315907696, 0.05309186314609844, -0.050832444893272544, -0.02385153600709564, 0.04674644161279567, 0.03755582579895323, 0.03448363335090274, 0.0372932086955395, 0.13790535911459517, -0.019344969335369555, -0.07353568095580874, 0.15436960034991792, -0.0822898519535666, 0.022738085467266123, -0.0651210236127116, 0.000897862957602294, 0.0715667790470051, -0.05978443406330101, -0.02293177269805913, -0.03549336348799711, -0.013898858918796306, -0.042828301089330396, 0.0810030915873927, 0.03284511497560442, 0.014664996090088873, 0.03820559394111606, 0.002653827319281523, -0.0039804733381260254, 0.031114181483265144, -0.06548453331453712, 0.0033846502384696398, -0.03151299913550776, 0.0023144019048225812, 0.21391559558880613, 0.014120606725314348, -0.0052587296657856985, -0.041076129241797245, 0.021624959924349683, -0.023037516879838123, -0.044483179419536244, 0.017778110222380884, 0.08311026971697809, -0.03493083126949455, -0.05573764438433704, 0.013439413016222677, 0.0283915727211138, -0.1610665493803897, -0.014986539659075714, 0.07874577336075694, 0.02703258688958686, 0.06476773060159688, 0.026104398466295958, 0.4672600396903408, 0.03311475626489837, -0.015785285918601476, -0.00986902531243996, -0.012707435126030531, 0.02341251666654095, -0.06152572764600992, -0.18306258480465565, 0.10015790651201006, -0.02286821637131606, -0.06842681636685585, 0.012510228284962073, 0.0019493490237757038, 0.02729412770260691, -0.03137856304584591, -0.04379602680006422, -0.005245257249682419, -0.09531336426521297, -0.004382874527708846, -0.041100343127535605, -0.1442869446946987, 0.015167150257040352, 0.027182355514265358, -0.040005542397944564, 0.010624308386606903, 0.06335039675622284, 0.04494448497129814, -0.0438758600112133, 0.007187720373309872, -0.11766781459069554, -0.015058510414405613, -0.032149400193958656, -0.00029126563146830996, 0.2687432053763926, -0.009211272703341248, 0.03890556834501786, 0.06465214224986239, 0.02240016149743393, -0.05853562288058904, 0.113588254452185, -0.03035306519512354, 0.014955495571994427, -0.0016709985784867287]\n"
     ]
    }
   ],
   "source": [
    "import time\n",
    "\n",
    "start = time.time()\n",
    "\n",
    "debug_result = [cos(**x) for x in debug_cases]\n",
    "answer = [cos(**x) for x in public_cases]\n",
    "\n",
    "print(time.time() - start, '<- Elapsed time')\n",
    "print(answer)"
   ]
  },
  {
   "cell_type": "code",
   "execution_count": null,
   "metadata": {},
   "outputs": [],
   "source": []
  }
 ],
 "metadata": {
  "kernelspec": {
   "display_name": "Python 3",
   "language": "python",
   "name": "python3"
  },
  "language_info": {
   "codemirror_mode": {
    "name": "ipython",
    "version": 3
   },
   "file_extension": ".py",
   "mimetype": "text/x-python",
   "name": "python",
   "nbconvert_exporter": "python",
   "pygments_lexer": "ipython3",
   "version": "3.12.2"
  }
 },
 "nbformat": 4,
 "nbformat_minor": 2
}
