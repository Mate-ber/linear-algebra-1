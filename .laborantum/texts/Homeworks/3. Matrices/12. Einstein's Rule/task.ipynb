{
 "cells": [
  {
   "cell_type": "code",
   "execution_count": 1,
   "metadata": {},
   "outputs": [],
   "source": [
    "%reload_ext autoreload\n",
    "%autoreload 2\n",
    "\n",
    "import sys\n",
    "import os\n",
    "from pathlib import Path\n",
    "import json_tricks\n",
    "\n",
    "path = Path('.').resolve()\n",
    "\n",
    "index = str(path).find('.laborantum')\n",
    "\n",
    "if index > 0:\n",
    "    path = str(path)[:index]\n",
    "\n",
    "os.chdir(path)\n",
    "\n",
    "path = Path(\".laborantum/texts/Homeworks/3. Matrices/12. Einstein's Rule\")\n",
    "\n",
    "debug_cases = json_tricks.load(\n",
    "    str(path / 'testcases' / 'debug_cases.json'))\n",
    "public_cases = json_tricks.load(\n",
    "    str(path / 'testcases' / 'public_cases.json'))"
   ]
  },
  {
   "cell_type": "code",
   "execution_count": 2,
   "metadata": {},
   "outputs": [],
   "source": [
    "import numpy as np\n",
    "\n",
    "def formula(A, B, C, D):\n",
    "    # YOUR CODE HERE\n",
    "    # res1 = np.einsum('mn, no->', B, C)\n",
    "    \n",
    "    # res2 = np.einsum('lk, km->', D, A)\n",
    "\n",
    "    # res = res.T\n",
    "    # #D = D.T\n",
    "\n",
    "    res = np.einsum('km,mn,no,lk->', A, B,C,D)\n",
    "\n",
    "    #print(res1*res2)\n",
    "    #print(res)\n",
    "\n",
    "    \n",
    "    return res"
   ]
  },
  {
   "cell_type": "code",
   "execution_count": 3,
   "metadata": {},
   "outputs": [
    {
     "name": "stdout",
     "output_type": "stream",
     "text": [
      "530\n",
      "5986\n",
      "-2000\n",
      "48\n",
      "155\n",
      "10216\n",
      "0\n",
      "-3797\n",
      "-393\n",
      "-232\n",
      "466\n",
      "108\n",
      "-543\n",
      "-546\n",
      "245\n",
      "-1008\n",
      "2903\n",
      "643\n",
      "-2491\n",
      "337\n",
      "-30.452229714424398\n",
      "-0.5230464003470661\n",
      "-1.6271042179954298\n",
      "-47.19575483509548\n",
      "59.71193148402743\n",
      "-2.968384687177132\n",
      "146.32337697465246\n",
      "2.1171848683927426\n",
      "-15.36306254059288\n",
      "25.19388336510951\n",
      "16.13403805980773\n",
      "-45.47842157480017\n",
      "3.0632927458314017\n",
      "9.711438289721148\n",
      "-41.48069141215542\n",
      "-3.3479566431620347\n",
      "-22.044529798475764\n",
      "97.47768875674902\n",
      "0.8224408515125256\n",
      "2.6705459044400994\n",
      "0.003141164779663086 <- Elapsed time\n"
     ]
    }
   ],
   "source": [
    "import time\n",
    "\n",
    "start = time.time()\n",
    "\n",
    "debug_result = [formula(**x) for x in debug_cases]\n",
    "answer = [formula(**x) for x in public_cases]\n",
    "\n",
    "print(time.time() - start, '<- Elapsed time')"
   ]
  },
  {
   "cell_type": "code",
   "execution_count": null,
   "metadata": {},
   "outputs": [],
   "source": []
  }
 ],
 "metadata": {
  "kernelspec": {
   "display_name": "Python 3",
   "language": "python",
   "name": "python3"
  },
  "language_info": {
   "codemirror_mode": {
    "name": "ipython",
    "version": 3
   },
   "file_extension": ".py",
   "mimetype": "text/x-python",
   "name": "python",
   "nbconvert_exporter": "python",
   "pygments_lexer": "ipython3",
   "version": "3.12.2"
  }
 },
 "nbformat": 4,
 "nbformat_minor": 2
}
